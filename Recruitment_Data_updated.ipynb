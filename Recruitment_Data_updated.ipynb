{
 "cells": [
  {
   "cell_type": "code",
   "execution_count": 1,
   "id": "ed903979",
   "metadata": {},
   "outputs": [],
   "source": [
    "import pandas as pd"
   ]
  },
  {
   "cell_type": "code",
   "execution_count": 2,
   "id": "9ec78514",
   "metadata": {},
   "outputs": [],
   "source": [
    "# Load the uploaded data\n",
    "df = pd.read_csv(\"Recruitment_Data_updated.csv\")"
   ]
  },
  {
   "cell_type": "code",
   "execution_count": 3,
   "id": "6cf9d9b2",
   "metadata": {},
   "outputs": [
    {
     "data": {
      "text/html": [
       "<div>\n",
       "<style scoped>\n",
       "    .dataframe tbody tr th:only-of-type {\n",
       "        vertical-align: middle;\n",
       "    }\n",
       "\n",
       "    .dataframe tbody tr th {\n",
       "        vertical-align: top;\n",
       "    }\n",
       "\n",
       "    .dataframe thead th {\n",
       "        text-align: right;\n",
       "    }\n",
       "</style>\n",
       "<table border=\"1\" class=\"dataframe\">\n",
       "  <thead>\n",
       "    <tr style=\"text-align: right;\">\n",
       "      <th></th>\n",
       "      <th>attrition</th>\n",
       "      <th>performance_rating</th>\n",
       "      <th>sales_quota_pct</th>\n",
       "      <th>recruiting_source</th>\n",
       "    </tr>\n",
       "  </thead>\n",
       "  <tbody>\n",
       "    <tr>\n",
       "      <th>0</th>\n",
       "      <td>0.000707</td>\n",
       "      <td>2.976686</td>\n",
       "      <td>0.604739</td>\n",
       "      <td>Applied Online</td>\n",
       "    </tr>\n",
       "    <tr>\n",
       "      <th>1</th>\n",
       "      <td>-0.019452</td>\n",
       "      <td>2.989157</td>\n",
       "      <td>0.396567</td>\n",
       "      <td>NaN</td>\n",
       "    </tr>\n",
       "    <tr>\n",
       "      <th>2</th>\n",
       "      <td>-0.009998</td>\n",
       "      <td>2.993355</td>\n",
       "      <td>0.206242</td>\n",
       "      <td>Applied Online</td>\n",
       "    </tr>\n",
       "    <tr>\n",
       "      <th>3</th>\n",
       "      <td>-0.003004</td>\n",
       "      <td>1.989966</td>\n",
       "      <td>-0.475037</td>\n",
       "      <td>NaN</td>\n",
       "    </tr>\n",
       "    <tr>\n",
       "      <th>4</th>\n",
       "      <td>-0.025405</td>\n",
       "      <td>3.016559</td>\n",
       "      <td>0.345470</td>\n",
       "      <td>Campus</td>\n",
       "    </tr>\n",
       "  </tbody>\n",
       "</table>\n",
       "</div>"
      ],
      "text/plain": [
       "   attrition  performance_rating  sales_quota_pct recruiting_source\n",
       "0   0.000707            2.976686         0.604739    Applied Online\n",
       "1  -0.019452            2.989157         0.396567               NaN\n",
       "2  -0.009998            2.993355         0.206242    Applied Online\n",
       "3  -0.003004            1.989966        -0.475037               NaN\n",
       "4  -0.025405            3.016559         0.345470            Campus"
      ]
     },
     "execution_count": 3,
     "metadata": {},
     "output_type": "execute_result"
    }
   ],
   "source": [
    "df.head()"
   ]
  },
  {
   "cell_type": "code",
   "execution_count": 4,
   "id": "9efe4e29",
   "metadata": {},
   "outputs": [
    {
     "data": {
      "text/plain": [
       "Index(['attrition', 'performance_rating', 'sales_quota_pct',\n",
       "       'recruiting_source'],\n",
       "      dtype='object')"
      ]
     },
     "execution_count": 4,
     "metadata": {},
     "output_type": "execute_result"
    }
   ],
   "source": [
    "df.columns"
   ]
  },
  {
   "cell_type": "code",
   "execution_count": 5,
   "id": "3d2644a4",
   "metadata": {},
   "outputs": [],
   "source": [
    "avg_sales_by_source = df.groupby('recruiting_source')['sales_quota_pct'].mean()\n",
    "avg_attrition_by_source = df.groupby('recruiting_source')['attrition'].mean()"
   ]
  },
  {
   "cell_type": "code",
   "execution_count": 6,
   "id": "aa255557",
   "metadata": {},
   "outputs": [
    {
     "data": {
      "text/plain": [
       "(recruiting_source\n",
       " Applied Online    1.080959\n",
       " Campus            1.076408\n",
       " Referral          1.075538\n",
       " Search Firm       1.103426\n",
       " Name: sales_quota_pct, dtype: float64,\n",
       " recruiting_source\n",
       " Applied Online    0.213370\n",
       " Campus            0.215109\n",
       " Referral          0.214920\n",
       " Search Firm       0.208177\n",
       " Name: attrition, dtype: float64)"
      ]
     },
     "execution_count": 6,
     "metadata": {},
     "output_type": "execute_result"
    }
   ],
   "source": [
    "avg_sales_by_source, avg_attrition_by_source"
   ]
  },
  {
   "cell_type": "code",
   "execution_count": 7,
   "id": "e72fedee",
   "metadata": {},
   "outputs": [
    {
     "name": "stdout",
     "output_type": "stream",
     "text": [
      "recruiting_source\n",
      "Applied Online    1.080959\n",
      "Campus            1.076408\n",
      "Referral          1.075538\n",
      "Search Firm       1.103426\n",
      "Name: sales_quota_pct, dtype: float64 recruiting_source\n",
      "Applied Online    0.213370\n",
      "Campus            0.215109\n",
      "Referral          0.214920\n",
      "Search Firm       0.208177\n",
      "Name: attrition, dtype: float64\n"
     ]
    }
   ],
   "source": [
    "print (avg_sales_by_source, avg_attrition_by_source)"
   ]
  },
  {
   "cell_type": "code",
   "execution_count": 8,
   "id": "4b7627bb",
   "metadata": {},
   "outputs": [
    {
     "data": {
      "text/html": [
       "<div>\n",
       "<style scoped>\n",
       "    .dataframe tbody tr th:only-of-type {\n",
       "        vertical-align: middle;\n",
       "    }\n",
       "\n",
       "    .dataframe tbody tr th {\n",
       "        vertical-align: top;\n",
       "    }\n",
       "\n",
       "    .dataframe thead th {\n",
       "        text-align: right;\n",
       "    }\n",
       "</style>\n",
       "<table border=\"1\" class=\"dataframe\">\n",
       "  <thead>\n",
       "    <tr style=\"text-align: right;\">\n",
       "      <th></th>\n",
       "      <th>recruiting_source</th>\n",
       "      <th>avg_sales_quota_pct</th>\n",
       "      <th>avg_attrition</th>\n",
       "      <th>count</th>\n",
       "    </tr>\n",
       "  </thead>\n",
       "  <tbody>\n",
       "    <tr>\n",
       "      <th>3</th>\n",
       "      <td>Search Firm</td>\n",
       "      <td>1.103426</td>\n",
       "      <td>0.208177</td>\n",
       "      <td>2408</td>\n",
       "    </tr>\n",
       "    <tr>\n",
       "      <th>0</th>\n",
       "      <td>Applied Online</td>\n",
       "      <td>1.080959</td>\n",
       "      <td>0.213370</td>\n",
       "      <td>30966</td>\n",
       "    </tr>\n",
       "    <tr>\n",
       "      <th>1</th>\n",
       "      <td>Campus</td>\n",
       "      <td>1.076408</td>\n",
       "      <td>0.215109</td>\n",
       "      <td>13453</td>\n",
       "    </tr>\n",
       "    <tr>\n",
       "      <th>2</th>\n",
       "      <td>Referral</td>\n",
       "      <td>1.075538</td>\n",
       "      <td>0.214920</td>\n",
       "      <td>10926</td>\n",
       "    </tr>\n",
       "  </tbody>\n",
       "</table>\n",
       "</div>"
      ],
      "text/plain": [
       "  recruiting_source  avg_sales_quota_pct  avg_attrition  count\n",
       "3       Search Firm             1.103426       0.208177   2408\n",
       "0    Applied Online             1.080959       0.213370  30966\n",
       "1            Campus             1.076408       0.215109  13453\n",
       "2          Referral             1.075538       0.214920  10926"
      ]
     },
     "execution_count": 8,
     "metadata": {},
     "output_type": "execute_result"
    }
   ],
   "source": [
    "# Group data by 'recruiting_source' to get the average 'sales_quota_pct' and 'attrition' for each source\n",
    "grouped_data = df.groupby('recruiting_source').agg(\n",
    "    avg_sales_quota_pct=('sales_quota_pct', 'mean'),\n",
    "    avg_attrition=('attrition', 'mean'),\n",
    "    count=('recruiting_source', 'size')  # Count of records for each source\n",
    ").reset_index()\n",
    "\n",
    "# Display the grouped data for insights\n",
    "grouped_data.sort_values(by=['avg_sales_quota_pct', 'avg_attrition'], ascending=[False, True])\n"
   ]
  },
  {
   "cell_type": "code",
   "execution_count": null,
   "id": "408ff1e9",
   "metadata": {},
   "outputs": [],
   "source": []
  }
 ],
 "metadata": {
  "kernelspec": {
   "display_name": "Python 3 (ipykernel)",
   "language": "python",
   "name": "python3"
  },
  "language_info": {
   "codemirror_mode": {
    "name": "ipython",
    "version": 3
   },
   "file_extension": ".py",
   "mimetype": "text/x-python",
   "name": "python",
   "nbconvert_exporter": "python",
   "pygments_lexer": "ipython3",
   "version": "3.11.5"
  }
 },
 "nbformat": 4,
 "nbformat_minor": 5
}
